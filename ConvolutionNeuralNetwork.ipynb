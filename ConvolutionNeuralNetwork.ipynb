{
 "cells": [
  {
   "cell_type": "code",
   "execution_count": 2,
   "metadata": {
    "collapsed": true
   },
   "outputs": [],
   "source": [
    "from __future__ import absolute_import\n",
    "from __future__ import division\n",
    "from __future__ import print_function\n",
    "import os\n",
    "import time\n",
    "import tensorflow as tf\n",
    "from tensorflow.examples.tutorials.mnist import input_data"
   ]
  },
  {
   "cell_type": "code",
   "execution_count": 3,
   "metadata": {
    "collapsed": true
   },
   "outputs": [],
   "source": [
    "N_CLASSES = 10"
   ]
  },
  {
   "cell_type": "code",
   "execution_count": 4,
   "metadata": {},
   "outputs": [
    {
     "name": "stdout",
     "output_type": "stream",
     "text": [
      "Extracting MNIST_data\\train-images-idx3-ubyte.gz\n",
      "Extracting MNIST_data\\train-labels-idx1-ubyte.gz\n",
      "Extracting MNIST_data\\t10k-images-idx3-ubyte.gz\n",
      "Extracting MNIST_data\\t10k-labels-idx1-ubyte.gz\n"
     ]
    }
   ],
   "source": [
    "#Read in data\n",
    "mnist = input_data.read_data_sets(\"MNIST_data\", one_hot=True)"
   ]
  },
  {
   "cell_type": "code",
   "execution_count": 27,
   "metadata": {
    "collapsed": true
   },
   "outputs": [],
   "source": [
    "#Parameters for a model\n",
    "LEARNING_RATE = 0.001\n",
    "BATCH_SIZE = 128\n",
    "SKIP_STEP = 100\n",
    "DROP_OUT = 0.75\n",
    "N_EPOCHS = 10"
   ]
  },
  {
   "cell_type": "code",
   "execution_count": 6,
   "metadata": {
    "collapsed": true
   },
   "outputs": [],
   "source": [
    "#Create a placeholder for features,labels and dropout\n",
    "with tf.name_scope(\"data\"):\n",
    "    X = tf.placeholder(tf.float32,[None,784],name = \"X_placeholder\")\n",
    "    Y = tf.placeholder(tf.float32,[None,10], name = \"Y_placeholder\")\n",
    "dropout = tf.placeholder(tf.float32, name = 'dropout')"
   ]
  },
  {
   "cell_type": "code",
   "execution_count": 16,
   "metadata": {
    "collapsed": true
   },
   "outputs": [],
   "source": [
    "#Create inference and weights\n",
    "#model is conv - relu - pool - conv - relu - pool - fullly connected - softmax\n",
    "\n",
    "global_step = tf.Variable(0, dtype= tf.int32, trainable = False, name = \"global_step\")\n",
    "\n",
    "with tf.variable_scope('conv1',reuse = True) as scope:\n",
    "    images = tf.reshape(X, shape = [-1,28,28,1])\n",
    "    kernel = tf.get_variable('kernel',[5,5,1,32], initializer = tf.truncated_normal_initializer())\n",
    "    biases = tf.get_variable('biases',[32],initializer = tf.random_normal_initializer())\n",
    "    conv = tf.nn.conv2d(images,kernel, strides = [1,1,1,1], padding =\"SAME\")\n",
    "    conv1 = tf.nn.relu(conv+biases, name = scope.name)\n",
    "    # output is of dimension BATCH_SIZE x 28 x 28 x 32\n",
    "    \n",
    "with tf.variable_scope('pool1') as scope:\n",
    "    pool1 = tf.nn.max_pool(conv1, ksize = [1,2,2,1], strides = [1,2,2,1], padding = 'SAME')\n",
    "    # output is of dimension BATCH_SIZE x 14 x 14 x 32\n",
    "\n",
    "with tf.variable_scope(\"conv2\",reuse = True) as scope:\n",
    "    kernel = tf.get_variable('kernel', [5,5,32,64], initializer = tf.truncated_normal_initializer())\n",
    "    biases = tf.get_variable('biases',[64], initializer = tf.random_normal_initializer())\n",
    "    conv = tf.nn.conv2d(pool1, kernel, strides=[1,1,1,1], padding = 'SAME')\n",
    "    conv2 = tf.nn.relu(conv+biases, name = scope.name)\n",
    "    # output is of dimension BATCH_SIZE x 14 x 14 x 64\n",
    "\n",
    "with tf.variable_scope('pool2') as scope:\n",
    "    pool2 = tf.nn.max_pool(conv2, ksize = [1,2,2,1], strides = [1,2,2,1], padding = 'SAME')\n",
    "    # output is of dimension BATCH_SIZE x 7 x 7 x 64\n",
    "    \n",
    "with tf.variable_scope('fc',reuse = True) as scope:\n",
    "    #use weight of dimension 7*7*64 X 1024\n",
    "    input_features = 7*7*64\n",
    "    w = tf.get_variable(\"weights\", [input_features,1024], initializer = tf.truncated_normal_initializer())\n",
    "    b = tf.get_variable('biases',[1024],initializer = tf.random_normal_initializer())\n",
    "    #reshape pool2 to 2 dimensional\n",
    "    pool2 = tf.reshape(pool2,[-1,input_features])\n",
    "    fc = tf.nn.relu(tf.matmul(pool2,w) + b, name = 'relu')\n",
    "    fc = tf.nn.dropout(fc, dropout,name = 'relu_dropout')\n",
    "\n",
    "with tf.variable_scope('softmax_linear',reuse = None) as scope:\n",
    "    w = tf.get_variable(\"weights\",[1024,N_CLASSES],initializer = tf.truncated_normal_initializer())\n",
    "    b = tf.get_variable('biases', [N_CLASSES], initializer = tf.random_normal_initializer())\n",
    "    logits = tf.matmul(fc,w) + b\n",
    "\n",
    "with tf.name_scope(\"loss\"):\n",
    "    entropy = tf.nn.softmax_cross_entropy_with_logits(logits =logits,labels =Y)\n",
    "    loss = tf.reduce_mean(entropy, name = 'loss')\n",
    "    "
   ]
  },
  {
   "cell_type": "code",
   "execution_count": 17,
   "metadata": {
    "collapsed": true
   },
   "outputs": [],
   "source": [
    "#Training Operation\n",
    "optimizer = tf.train.AdamOptimizer(LEARNING_RATE).minimize(loss,global_step = global_step)"
   ]
  },
  {
   "cell_type": "code",
   "execution_count": 28,
   "metadata": {},
   "outputs": [
    {
     "name": "stdout",
     "output_type": "stream",
     "text": [
      "Average loss at step 100: 7925.4\n",
      "Average loss at step 200: 1509.2\n",
      "Average loss at step 300: 973.7\n",
      "Average loss at step 400: 654.6\n",
      "Average loss at step 500: 487.8\n",
      "Average loss at step 600: 409.5\n",
      "Average loss at step 700: 352.0\n",
      "Average loss at step 800: 281.1\n",
      "Average loss at step 900: 242.7\n",
      "Average loss at step 1000: 183.8\n",
      "Average loss at step 1100: 186.4\n",
      "Average loss at step 1200: 168.0\n",
      "Average loss at step 1300: 167.5\n",
      "Average loss at step 1400: 125.0\n",
      "Average loss at step 1500: 131.2\n",
      "Average loss at step 1600: 106.4\n",
      "Average loss at step 1700: 114.0\n",
      "Average loss at step 1800:  91.0\n",
      "Average loss at step 1900:  87.3\n",
      "Average loss at step 2000:  87.3\n",
      "Average loss at step 2100:  77.7\n",
      "Average loss at step 2200:  65.8\n",
      "Average loss at step 2300:  64.2\n",
      "Average loss at step 2400:  60.5\n",
      "Average loss at step 2500:  54.6\n",
      "Average loss at step 2600:  58.7\n",
      "Average loss at step 2700:  43.7\n",
      "Average loss at step 2800:  49.3\n",
      "Average loss at step 2900:  50.0\n",
      "Average loss at step 3000:  42.5\n",
      "Average loss at step 3100:  32.2\n",
      "Average loss at step 3200:  38.9\n",
      "Average loss at step 3300:  35.0\n",
      "Average loss at step 3400:  36.8\n",
      "Average loss at step 3500:  31.9\n",
      "Average loss at step 3600:  26.9\n",
      "Average loss at step 3700:  30.3\n",
      "Average loss at step 3800:  30.3\n",
      "Average loss at step 3900:  28.9\n",
      "Average loss at step 4000:  22.1\n",
      "Average loss at step 4100:  24.1\n",
      "Average loss at step 4200:  23.7\n",
      "Optimization Finished!\n",
      "Total time: 127.19638133049011 seconds\n",
      "Accuracy 0.9679\n"
     ]
    }
   ],
   "source": [
    "with tf.Session() as sess:\n",
    "    sess.run(tf.global_variables_initializer())\n",
    "    initial_step = global_step.eval()\n",
    "    start_time = time.time()\n",
    "    n_batches = int(mnist.train.num_examples/BATCH_SIZE)\n",
    "    total_loss = 0.0\n",
    "    for index in range(initial_step, n_batches * N_EPOCHS): # train the model n_epochs times\n",
    "        X_batch, Y_batch = mnist.train.next_batch(BATCH_SIZE)\n",
    "        _, loss_batch = sess.run([optimizer, loss], \n",
    "                                feed_dict={X: X_batch, Y:Y_batch, dropout: DROP_OUT}) \n",
    "        total_loss += loss_batch\n",
    "        if (index + 1) % SKIP_STEP == 0:\n",
    "            print('Average loss at step {}: {:5.1f}'.format(index + 1, total_loss / SKIP_STEP))\n",
    "            total_loss = 0.0\n",
    "    \n",
    "    print(\"Optimization Finished!\")\n",
    "    print(\"Total time: {0} seconds\".format(time.time() - start_time))\n",
    "    \n",
    "    # test the model\n",
    "    n_batches = int(mnist.test.num_examples/BATCH_SIZE)\n",
    "    total_correct_preds = 0\n",
    "    for i in range(n_batches):\n",
    "        X_batch, Y_batch = mnist.test.next_batch(BATCH_SIZE)\n",
    "        _, loss_batch, logits_batch = sess.run([optimizer, loss, logits], \n",
    "                                        feed_dict={X: X_batch, Y:Y_batch, dropout: DROP_OUT}) \n",
    "        preds = tf.nn.softmax(logits_batch)\n",
    "        correct_preds = tf.equal(tf.argmax(preds, 1), tf.argmax(Y_batch, 1))\n",
    "        accuracy = tf.reduce_sum(tf.cast(correct_preds, tf.float32))\n",
    "        total_correct_preds += sess.run(accuracy)   \n",
    "\n",
    "    print(\"Accuracy {0}\".format(total_correct_preds/mnist.test.num_examples))\n",
    "    "
   ]
  },
  {
   "cell_type": "code",
   "execution_count": null,
   "metadata": {
    "collapsed": true
   },
   "outputs": [],
   "source": []
  }
 ],
 "metadata": {
  "kernelspec": {
   "display_name": "Python 3",
   "language": "python",
   "name": "python3"
  },
  "language_info": {
   "codemirror_mode": {
    "name": "ipython",
    "version": 3
   },
   "file_extension": ".py",
   "mimetype": "text/x-python",
   "name": "python",
   "nbconvert_exporter": "python",
   "pygments_lexer": "ipython3",
   "version": "3.5.2"
  }
 },
 "nbformat": 4,
 "nbformat_minor": 2
}
